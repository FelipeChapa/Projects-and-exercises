{
 "cells": [
  {
   "cell_type": "markdown",
   "id": "858cff70-29a6-4b57-89bd-e90278615ec5",
   "metadata": {},
   "source": [
    "<center><img src=\"https://d2h0cx97tjks2p.cloudfront.net/blogs/wp-content/uploads/sites/2/2020/01/python-machine-learning-project-output-as-number-2.png\"/> <align=\"center\"/>"
   ]
  },
  {
   "cell_type": "markdown",
   "id": "f8688cd0-b670-4fad-8e67-5f23d8bc6e61",
   "metadata": {},
   "source": [
    "# Handwritten Digit recognition with Keras and Tensorflow"
   ]
  },
  {
   "cell_type": "markdown",
   "id": "73806ca0-5cb5-40ec-ae04-1dd5c776814b",
   "metadata": {},
   "source": [
    "## 1. Import libraries and load dataset"
   ]
  },
  {
   "cell_type": "code",
   "execution_count": 1,
   "id": "aa1a4ba4-4bb4-4037-9332-62fbb46866db",
   "metadata": {},
   "outputs": [
    {
     "name": "stdout",
     "output_type": "stream",
     "text": [
      "(60000, 28, 28) (60000,)\n"
     ]
    }
   ],
   "source": [
    "import keras\n",
    "from keras.datasets import mnist\n",
    "from keras.models import Sequential\n",
    "from keras.layers import Dense, Dropout, Flatten\n",
    "from keras.layers import Conv2D, MaxPooling2D\n",
    "from keras import backend as K\n",
    "\n",
    "# MNIST method for loading train and test data\n",
    "(x_train, y_train), (x_test, y_test) = mnist.load_data()\n",
    "\n",
    "print(x_train.shape, y_train.shape)"
   ]
  },
  {
   "cell_type": "markdown",
   "id": "49079276-47ae-4965-941f-c15a3fa017de",
   "metadata": {},
   "source": [
    "## 2. Preprocess data"
   ]
  },
  {
   "cell_type": "markdown",
   "id": "e6d0fa34-5aac-4b72-a106-622b97609535",
   "metadata": {},
   "source": [
    "The dimension of the training data is (60000,28,28). The Convolutional Neutral Network (CNN) model requires one more dimension. Reshape to (60000,28,28,1)."
   ]
  },
  {
   "cell_type": "code",
   "execution_count": 2,
   "id": "374a6d55-a453-4c43-9c85-13c6b2000296",
   "metadata": {},
   "outputs": [
    {
     "name": "stdout",
     "output_type": "stream",
     "text": [
      "x_train shape: (60000, 28, 28, 1)\n",
      "60000 train samples\n",
      "10000 test samples\n"
     ]
    }
   ],
   "source": [
    "num_classes = 10\n",
    "\n",
    "x_train = x_train.reshape(x_train.shape[0], 28, 28, 1)\n",
    "x_test = x_test.reshape(x_test.shape[0], 28, 28, 1)\n",
    "input_shape = (28, 28, 1)\n",
    "\n",
    "# convert class vectors to binary class matrices\n",
    "y_train = keras.utils.to_categorical(y_train, num_classes)\n",
    "y_test = keras.utils.to_categorical(y_test, num_classes)\n",
    "\n",
    "x_train = x_train.astype('float32')\n",
    "x_test = x_test.astype('float32')\n",
    "x_train /= 255\n",
    "x_test /= 255\n",
    "print('x_train shape:', x_train.shape)\n",
    "print(x_train.shape[0], 'train samples')\n",
    "print(x_test.shape[0], 'test samples')"
   ]
  },
  {
   "cell_type": "markdown",
   "id": "2f8963a3-0746-4828-a2fa-db955006ef68",
   "metadata": {},
   "source": [
    "## 3. Create the model"
   ]
  },
  {
   "cell_type": "markdown",
   "id": "e30bfbd1-865a-4469-bd44-b91d841aee56",
   "metadata": {},
   "source": [
    "A CNN model generally consists of convolutional and pooling layers. It works better for data that are represented as grid structures, this is the reason why CNN works well for image classification problems. "
   ]
  },
  {
   "cell_type": "code",
   "execution_count": 3,
   "id": "41a7dc76-e806-44ed-a306-154c0aa32477",
   "metadata": {},
   "outputs": [],
   "source": [
    "batch_size = 128\n",
    "num_classes = 10\n",
    "epochs = 10\n",
    "\n",
    "model = Sequential()\n",
    "model.add(Conv2D(32, kernel_size=(3, 3),activation='relu',input_shape=input_shape))\n",
    "model.add(Conv2D(64, (3, 3), activation='relu'))\n",
    "model.add(MaxPooling2D(pool_size=(2, 2)))\n",
    "model.add(Dropout(0.25))\n",
    "model.add(Flatten())\n",
    "model.add(Dense(256, activation='relu'))\n",
    "model.add(Dropout(0.5))\n",
    "model.add(Dense(num_classes, activation='softmax'))\n",
    "\n",
    "model.compile(loss=keras.losses.categorical_crossentropy,optimizer=keras.optimizers.Adadelta(),metrics=['accuracy'])"
   ]
  },
  {
   "cell_type": "markdown",
   "id": "8d10e32d-d085-4629-97b7-1bd572bfd7a1",
   "metadata": {},
   "source": [
    "## 4. Train the modelA CNN model generally consists of convolutional and pooling layers. It works better for data that are represented as grid structures, this is the reason why CNN works well for image classification problems. "
   ]
  },
  {
   "cell_type": "code",
   "execution_count": 4,
   "id": "2cc48194-219a-42ed-b3c4-35aacab8aec0",
   "metadata": {},
   "outputs": [
    {
     "name": "stdout",
     "output_type": "stream",
     "text": [
      "Epoch 1/10\n",
      "469/469 [==============================] - 38s 81ms/step - loss: 2.2814 - accuracy: 0.1547 - val_loss: 2.2493 - val_accuracy: 0.3003\n",
      "Epoch 2/10\n",
      "469/469 [==============================] - 38s 80ms/step - loss: 2.2300 - accuracy: 0.2809 - val_loss: 2.1859 - val_accuracy: 0.5326\n",
      "Epoch 3/10\n",
      "469/469 [==============================] - 37s 79ms/step - loss: 2.1635 - accuracy: 0.4017 - val_loss: 2.1008 - val_accuracy: 0.6428\n",
      "Epoch 4/10\n",
      "469/469 [==============================] - 37s 80ms/step - loss: 2.0704 - accuracy: 0.4938 - val_loss: 1.9796 - val_accuracy: 0.7039\n",
      "Epoch 5/10\n",
      "469/469 [==============================] - 37s 78ms/step - loss: 1.9375 - accuracy: 0.5606 - val_loss: 1.8069 - val_accuracy: 0.7424\n",
      "Epoch 6/10\n",
      "469/469 [==============================] - 37s 79ms/step - loss: 1.7568 - accuracy: 0.6147 - val_loss: 1.5812 - val_accuracy: 0.7679\n",
      "Epoch 7/10\n",
      "469/469 [==============================] - 37s 79ms/step - loss: 1.5453 - accuracy: 0.6445 - val_loss: 1.3317 - val_accuracy: 0.7907\n",
      "Epoch 8/10\n",
      "469/469 [==============================] - 37s 79ms/step - loss: 1.3369 - accuracy: 0.6701 - val_loss: 1.1048 - val_accuracy: 0.8102\n",
      "Epoch 9/10\n",
      "469/469 [==============================] - 37s 79ms/step - loss: 1.1552 - accuracy: 0.6981 - val_loss: 0.9261 - val_accuracy: 0.8255\n",
      "Epoch 10/10\n",
      "469/469 [==============================] - 37s 80ms/step - loss: 1.0233 - accuracy: 0.7187 - val_loss: 0.7971 - val_accuracy: 0.8395\n",
      "The model has successfully trained\n",
      "Saving the model as mnist.h5\n"
     ]
    }
   ],
   "source": [
    "hist = model.fit(x_train, y_train,batch_size=batch_size,epochs=epochs,verbose=1,validation_data=(x_test, y_test))\n",
    "print(\"The model has successfully trained\")\n",
    "\n",
    "model.save('mnist.h5')\n",
    "print(\"Saving the model as mnist.h5\")"
   ]
  },
  {
   "cell_type": "markdown",
   "id": "4f1fff88-a604-4c65-a0d1-1f11fcd34806",
   "metadata": {},
   "source": [
    "## 5. Evaluate the model"
   ]
  },
  {
   "cell_type": "code",
   "execution_count": 5,
   "id": "cfe23b5c-da72-475c-96e5-4e25c722dad6",
   "metadata": {},
   "outputs": [
    {
     "name": "stdout",
     "output_type": "stream",
     "text": [
      "Test loss: 0.7970731258392334\n",
      "Test accuracy: 0.8395000100135803\n"
     ]
    }
   ],
   "source": [
    "score = model.evaluate(x_test, y_test, verbose=0)\n",
    "print('Test loss:', score[0])\n",
    "print('Test accuracy:', score[1])"
   ]
  },
  {
   "cell_type": "markdown",
   "id": "bdf80d98-167b-4d05-8ec0-04eb17d1d34c",
   "metadata": {},
   "source": [
    "## 6. GUI for handwritten input prediction"
   ]
  },
  {
   "cell_type": "code",
   "execution_count": 12,
   "id": "4f9663d5-38af-4c61-bb8f-7c9c25421fba",
   "metadata": {},
   "outputs": [
    {
     "name": "stdout",
     "output_type": "stream",
     "text": [
      "1\n",
      "2\n",
      "2\n",
      "2\n",
      "7\n",
      "4\n",
      "7\n",
      "3\n",
      "3\n",
      "4\n",
      "6\n",
      "8\n",
      "0\n",
      "2\n",
      "2\n",
      "3\n",
      "3\n",
      "6\n",
      "1\n",
      "0\n",
      "1\n",
      "8\n",
      "2\n"
     ]
    }
   ],
   "source": [
    "from keras.models import load_model\n",
    "from tkinter import *\n",
    "import tkinter as tk\n",
    "import win32gui\n",
    "from PIL import ImageGrab, Image\n",
    "import numpy as np\n",
    "\n",
    "model = load_model('mnist.h5')\n",
    "\n",
    "def predict_digit(img):\n",
    "    #resize image to 28x28 pixels\n",
    "    img = img.resize((28,28))\n",
    "    #convert rgb to grayscale\n",
    "    img = img.convert('L')\n",
    "    img = np.array(img)\n",
    "    #reshaping to support our model input and normalizing\n",
    "    img = img.reshape(1,28,28,1)\n",
    "    img = img/255.0\n",
    "    #predicting the class\n",
    "    res = model.predict([img])[0]\n",
    "    return np.argmax(res), max(res)\n",
    "\n",
    "class App(tk.Tk):\n",
    "    def __init__(self):\n",
    "        tk.Tk.__init__(self)\n",
    "\n",
    "        self.x = self.y = 0\n",
    "\n",
    "        # Creating elements\n",
    "        self.canvas = tk.Canvas(self, width=300, height=300, bg = \"black\", cursor=\"cross\")\n",
    "        self.label = tk.Label(self, text=\"Thinking..\", font=(\"Helvetica\", 48))\n",
    "        self.classify_btn = tk.Button(self, text = \"Recognise\", command =         self.classify_handwriting) \n",
    "        self.button_clear = tk.Button(self, text = \"Clear\", command = self.clear_all)\n",
    "\n",
    "        # Grid structure\n",
    "        self.canvas.grid(row=0, column=0, pady=2, sticky=W, )\n",
    "        self.label.grid(row=0, column=1,pady=2, padx=2)\n",
    "        self.classify_btn.grid(row=1, column=1, pady=2, padx=2)\n",
    "        self.button_clear.grid(row=1, column=0, pady=2)\n",
    "\n",
    "        #self.canvas.bind(\"<Motion>\", self.start_pos)\n",
    "        self.canvas.bind(\"<B1-Motion>\", self.draw_lines)\n",
    "\n",
    "    def clear_all(self):\n",
    "        self.canvas.delete(\"all\")\n",
    "\n",
    "    def classify_handwriting(self):\n",
    "        HWND = self.canvas.winfo_id() # get the handle of the canvas\n",
    "        rect = win32gui.GetWindowRect(HWND) # get the coordinate of the canvas\n",
    "        im = ImageGrab.grab(rect)\n",
    "\n",
    "        digit, acc = predict_digit(im)\n",
    "        self.label.configure(text= str(digit)+', '+ str(int(acc*100))+'%')\n",
    "\n",
    "    def draw_lines(self, event):\n",
    "        self.x = event.x\n",
    "        self.y = event.y\n",
    "        r=8\n",
    "        self.canvas.create_oval(self.x-r, self.y-r, self.x + r, self.y + r, fill='white', outline = 'white')\n",
    "\n",
    "app = App()\n",
    "mainloop()"
   ]
  },
  {
   "cell_type": "code",
   "execution_count": null,
   "id": "9f8804b1-5f91-4723-bde1-fedf7d90acbf",
   "metadata": {},
   "outputs": [],
   "source": []
  }
 ],
 "metadata": {
  "kernelspec": {
   "display_name": "Python 3",
   "language": "python",
   "name": "python3"
  },
  "language_info": {
   "codemirror_mode": {
    "name": "ipython",
    "version": 3
   },
   "file_extension": ".py",
   "mimetype": "text/x-python",
   "name": "python",
   "nbconvert_exporter": "python",
   "pygments_lexer": "ipython3",
   "version": "3.8.5"
  }
 },
 "nbformat": 4,
 "nbformat_minor": 5
}
